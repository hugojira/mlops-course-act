{
 "cells": [
  {
   "attachments": {},
   "cell_type": "markdown",
   "metadata": {},
   "source": [
    "**mlops zoomcamp 2023 by DataTalksClub**\n",
    "\n",
    "**homework 1**\n",
    "\n",
    "This notebook is for the first homework of the mlops course. The objective are to explore the data and to train a model to predict the duration of a ride.\n",
    "\n",
    "Data is from [NYC taxi dataset](https://www.nyc.gov/site/tlc/about/tlc-trip-record-data.page), specifically the \"Yellow Taxi Trip Records\" from january, february 2022.\n",
    "\n",
    "**Author**: Hugo Valenzuela"
   ]
  },
  {
   "attachments": {},
   "cell_type": "markdown",
   "metadata": {},
   "source": [
    "# Building a linear regression model to predict taxi rides duration"
   ]
  },
  {
   "attachments": {},
   "cell_type": "markdown",
   "metadata": {},
   "source": [
    "## Libraries required"
   ]
  },
  {
   "cell_type": "code",
   "execution_count": null,
   "metadata": {},
   "outputs": [],
   "source": []
  }
 ],
 "metadata": {
  "kernelspec": {
   "display_name": "mlops-zoomcamp",
   "language": "python",
   "name": "python3"
  },
  "language_info": {
   "name": "python",
   "version": "3.9.16"
  },
  "orig_nbformat": 4
 },
 "nbformat": 4,
 "nbformat_minor": 2
}
